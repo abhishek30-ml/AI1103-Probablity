{
 "cells": [
  {
   "cell_type": "code",
   "execution_count": 1,
   "id": "2817a121",
   "metadata": {},
   "outputs": [],
   "source": [
    "import math\n",
    "import numpy as np\n",
    "import matplotlib.pyplot as plt"
   ]
  },
  {
   "cell_type": "code",
   "execution_count": 33,
   "id": "9f2205fe",
   "metadata": {},
   "outputs": [],
   "source": [
    "c1=0\n",
    "c2=0\n",
    "n=5000\n",
    "p=[]\n",
    "real_p=[]\n",
    "for i in range(n):\n",
    "    x = np.random.uniform(0,4)\n",
    "    y = np.random.uniform(0,4)\n",
    "    if (x>y) and (x<2*y):\n",
    "        c1+=1\n",
    "    if (x<2*y):\n",
    "        c2+=1\n",
    "        \n",
    "    if (c2!=0) and (i>0):\n",
    "        p1 = c1/i\n",
    "        p2 = c2/i\n",
    "        p.append(p1/p2)\n",
    "        real_p.append(1/3)\n",
    "        "
   ]
  },
  {
   "cell_type": "code",
   "execution_count": 37,
   "id": "eeddf154",
   "metadata": {},
   "outputs": [
    {
     "data": {
      "text/plain": [
       "<matplotlib.legend.Legend at 0x13a0e3f3a30>"
      ]
     },
     "execution_count": 37,
     "metadata": {},
     "output_type": "execute_result"
    },
    {
     "data": {
      "image/png": "[encoded data removed]",
      "text/plain": [
       "<Figure size 432x288 with 1 Axes>"
      ]
     },
     "metadata": {
      "needs_background": "light"
     },
     "output_type": "display_data"
    }
   ],
   "source": [
    "plt.plot(p)\n",
    "plt.plot(real_p)\n",
    "plt.xlabel('Simulations')\n",
    "plt.ylabel('Probability')\n",
    "plt.legend(['Simulated', 'Calculated'])"
   ]
  },
  {
   "cell_type": "code",
   "execution_count": 35,
   "id": "23cb3e3a",
   "metadata": {},
   "outputs": [
    {
     "data": {
      "text/plain": [
       "0.3387656959658028"
      ]
     },
     "execution_count": 35,
     "metadata": {},
     "output_type": "execute_result"
    }
   ],
   "source": [
    "p[-1]"
   ]
  },
  {
   "cell_type": "code",
   "execution_count": null,
   "id": "c5697db1",
   "metadata": {},
   "outputs": [],
   "source": []
  }
 ],
 "metadata": {
  "kernelspec": {
   "display_name": "Python 3 (ipykernel)",
   "language": "python",
   "name": "python3"
  },
  "language_info": {
   "codemirror_mode": {
    "name": "ipython",
    "version": 3
   },
   "file_extension": ".py",
   "mimetype": "text/x-python",
   "name": "python",
   "nbconvert_exporter": "python",
   "pygments_lexer": "ipython3",
   "version": "3.8.5"
  }
 },
 "nbformat": 4,
 "nbformat_minor": 5
}
