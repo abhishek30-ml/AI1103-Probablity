{
 "cells": [
  {
   "cell_type": "code",
   "execution_count": 1,
   "id": "625e7267",
   "metadata": {},
   "outputs": [],
   "source": [
    "import math\n",
    "import numpy as np\n",
    "import matplotlib.pyplot as plt"
   ]
  },
  {
   "cell_type": "code",
   "execution_count": 3,
   "id": "df644944",
   "metadata": {},
   "outputs": [
    {
     "data": {
      "text/plain": [
       "3"
      ]
     },
     "execution_count": 3,
     "metadata": {},
     "output_type": "execute_result"
    }
   ],
   "source": [
    "a = 2\n",
    "b = 3\n",
    "max(a,b)"
   ]
  },
  {
   "cell_type": "code",
   "execution_count": 9,
   "id": "fef6e5d8",
   "metadata": {},
   "outputs": [],
   "source": [
    "c1=0\n",
    "n=3000\n",
    "p=[]\n",
    "real_p=[]\n",
    "for i in range(n):\n",
    "    x = np.random.uniform(0,1)\n",
    "    y = np.random.uniform(0,1)\n",
    "    z = max(x,y)\n",
    "    w = min(x,y)\n",
    "    if ((z-w)>0.5):\n",
    "        c1+=1\n",
    "\n",
    "    if (i>0):\n",
    "        p1 = c1/i\n",
    "        p.append(p1)\n",
    "        real_p.append(1/4)\n",
    "        "
   ]
  },
  {
   "cell_type": "code",
   "execution_count": 11,
   "id": "65469076",
   "metadata": {},
   "outputs": [
    {
     "data": {
      "text/plain": [
       "<matplotlib.legend.Legend at 0x21077f231f0>"
      ]
     },
     "execution_count": 11,
     "metadata": {},
     "output_type": "execute_result"
    },
    {
     "data": {
      "image/png": "[encoded data removed]",
      "text/plain": [
       "<Figure size 432x288 with 1 Axes>"
      ]
     },
     "metadata": {
      "needs_background": "light"
     },
     "output_type": "display_data"
    }
   ],
   "source": [
    "plt.plot(p)\n",
    "plt.plot(real_p)\n",
    "plt.xlabel('Simulations')\n",
    "plt.ylabel('Probability')\n",
    "plt.legend(['Simulated', 'Calculated = 1/4'])"
   ]
  },
  {
   "cell_type": "code",
   "execution_count": 6,
   "id": "86cd4efe",
   "metadata": {},
   "outputs": [
    {
     "data": {
      "text/plain": [
       "0.2456491298259652"
      ]
     },
     "execution_count": 6,
     "metadata": {},
     "output_type": "execute_result"
    }
   ],
   "source": [
    "p[-1]"
   ]
  },
  {
   "cell_type": "code",
   "execution_count": null,
   "id": "0b965d80",
   "metadata": {},
   "outputs": [],
   "source": []
  }
 ],
 "metadata": {
  "kernelspec": {
   "display_name": "Python 3 (ipykernel)",
   "language": "python",
   "name": "python3"
  },
  "language_info": {
   "codemirror_mode": {
    "name": "ipython",
    "version": 3
   },
   "file_extension": ".py",
   "mimetype": "text/x-python",
   "name": "python",
   "nbconvert_exporter": "python",
   "pygments_lexer": "ipython3",
   "version": "3.8.5"
  }
 },
 "nbformat": 4,
 "nbformat_minor": 5
}
